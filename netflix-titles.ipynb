{
 "cells": [
  {
   "cell_type": "code",
   "execution_count": 1,
   "id": "8df6fd01-37e2-44e5-81aa-19d7efd82fc0",
   "metadata": {},
   "outputs": [],
   "source": [
    "import pandas as pd\n",
    "import numpy as np\n",
    "import seaborn as sns\n",
    "import matplotlib.pyplot as plt\n"
   ]
  },
  {
   "cell_type": "code",
   "execution_count": 2,
   "id": "409690c1-cfdd-42ca-9745-d99b676a6f8f",
   "metadata": {},
   "outputs": [
    {
     "data": {
      "text/html": [
       "<div>\n",
       "<style scoped>\n",
       "    .dataframe tbody tr th:only-of-type {\n",
       "        vertical-align: middle;\n",
       "    }\n",
       "\n",
       "    .dataframe tbody tr th {\n",
       "        vertical-align: top;\n",
       "    }\n",
       "\n",
       "    .dataframe thead th {\n",
       "        text-align: right;\n",
       "    }\n",
       "</style>\n",
       "<table border=\"1\" class=\"dataframe\">\n",
       "  <thead>\n",
       "    <tr style=\"text-align: right;\">\n",
       "      <th></th>\n",
       "      <th>show_id</th>\n",
       "      <th>type</th>\n",
       "      <th>title</th>\n",
       "      <th>director</th>\n",
       "      <th>cast</th>\n",
       "      <th>country</th>\n",
       "      <th>date_added</th>\n",
       "      <th>release_year</th>\n",
       "      <th>rating</th>\n",
       "      <th>duration</th>\n",
       "      <th>listed_in</th>\n",
       "      <th>description</th>\n",
       "    </tr>\n",
       "  </thead>\n",
       "  <tbody>\n",
       "    <tr>\n",
       "      <th>0</th>\n",
       "      <td>s1</td>\n",
       "      <td>Movie</td>\n",
       "      <td>Dick Johnson Is Dead</td>\n",
       "      <td>Kirsten Johnson</td>\n",
       "      <td>NaN</td>\n",
       "      <td>United States</td>\n",
       "      <td>September 25, 2021</td>\n",
       "      <td>2020</td>\n",
       "      <td>PG-13</td>\n",
       "      <td>90 min</td>\n",
       "      <td>Documentaries</td>\n",
       "      <td>As her father nears the end of his life, filmm...</td>\n",
       "    </tr>\n",
       "    <tr>\n",
       "      <th>1</th>\n",
       "      <td>s2</td>\n",
       "      <td>TV Show</td>\n",
       "      <td>Blood &amp; Water</td>\n",
       "      <td>NaN</td>\n",
       "      <td>Ama Qamata, Khosi Ngema, Gail Mabalane, Thaban...</td>\n",
       "      <td>South Africa</td>\n",
       "      <td>September 24, 2021</td>\n",
       "      <td>2021</td>\n",
       "      <td>TV-MA</td>\n",
       "      <td>2 Seasons</td>\n",
       "      <td>International TV Shows, TV Dramas, TV Mysteries</td>\n",
       "      <td>After crossing paths at a party, a Cape Town t...</td>\n",
       "    </tr>\n",
       "    <tr>\n",
       "      <th>2</th>\n",
       "      <td>s3</td>\n",
       "      <td>TV Show</td>\n",
       "      <td>Ganglands</td>\n",
       "      <td>Julien Leclercq</td>\n",
       "      <td>Sami Bouajila, Tracy Gotoas, Samuel Jouy, Nabi...</td>\n",
       "      <td>NaN</td>\n",
       "      <td>September 24, 2021</td>\n",
       "      <td>2021</td>\n",
       "      <td>TV-MA</td>\n",
       "      <td>1 Season</td>\n",
       "      <td>Crime TV Shows, International TV Shows, TV Act...</td>\n",
       "      <td>To protect his family from a powerful drug lor...</td>\n",
       "    </tr>\n",
       "    <tr>\n",
       "      <th>3</th>\n",
       "      <td>s4</td>\n",
       "      <td>TV Show</td>\n",
       "      <td>Jailbirds New Orleans</td>\n",
       "      <td>NaN</td>\n",
       "      <td>NaN</td>\n",
       "      <td>NaN</td>\n",
       "      <td>September 24, 2021</td>\n",
       "      <td>2021</td>\n",
       "      <td>TV-MA</td>\n",
       "      <td>1 Season</td>\n",
       "      <td>Docuseries, Reality TV</td>\n",
       "      <td>Feuds, flirtations and toilet talk go down amo...</td>\n",
       "    </tr>\n",
       "    <tr>\n",
       "      <th>4</th>\n",
       "      <td>s5</td>\n",
       "      <td>TV Show</td>\n",
       "      <td>Kota Factory</td>\n",
       "      <td>NaN</td>\n",
       "      <td>Mayur More, Jitendra Kumar, Ranjan Raj, Alam K...</td>\n",
       "      <td>India</td>\n",
       "      <td>September 24, 2021</td>\n",
       "      <td>2021</td>\n",
       "      <td>TV-MA</td>\n",
       "      <td>2 Seasons</td>\n",
       "      <td>International TV Shows, Romantic TV Shows, TV ...</td>\n",
       "      <td>In a city of coaching centers known to train I...</td>\n",
       "    </tr>\n",
       "  </tbody>\n",
       "</table>\n",
       "</div>"
      ],
      "text/plain": [
       "  show_id     type                  title         director  \\\n",
       "0      s1    Movie   Dick Johnson Is Dead  Kirsten Johnson   \n",
       "1      s2  TV Show          Blood & Water              NaN   \n",
       "2      s3  TV Show              Ganglands  Julien Leclercq   \n",
       "3      s4  TV Show  Jailbirds New Orleans              NaN   \n",
       "4      s5  TV Show           Kota Factory              NaN   \n",
       "\n",
       "                                                cast        country  \\\n",
       "0                                                NaN  United States   \n",
       "1  Ama Qamata, Khosi Ngema, Gail Mabalane, Thaban...   South Africa   \n",
       "2  Sami Bouajila, Tracy Gotoas, Samuel Jouy, Nabi...            NaN   \n",
       "3                                                NaN            NaN   \n",
       "4  Mayur More, Jitendra Kumar, Ranjan Raj, Alam K...          India   \n",
       "\n",
       "           date_added  release_year rating   duration  \\\n",
       "0  September 25, 2021          2020  PG-13     90 min   \n",
       "1  September 24, 2021          2021  TV-MA  2 Seasons   \n",
       "2  September 24, 2021          2021  TV-MA   1 Season   \n",
       "3  September 24, 2021          2021  TV-MA   1 Season   \n",
       "4  September 24, 2021          2021  TV-MA  2 Seasons   \n",
       "\n",
       "                                           listed_in  \\\n",
       "0                                      Documentaries   \n",
       "1    International TV Shows, TV Dramas, TV Mysteries   \n",
       "2  Crime TV Shows, International TV Shows, TV Act...   \n",
       "3                             Docuseries, Reality TV   \n",
       "4  International TV Shows, Romantic TV Shows, TV ...   \n",
       "\n",
       "                                         description  \n",
       "0  As her father nears the end of his life, filmm...  \n",
       "1  After crossing paths at a party, a Cape Town t...  \n",
       "2  To protect his family from a powerful drug lor...  \n",
       "3  Feuds, flirtations and toilet talk go down amo...  \n",
       "4  In a city of coaching centers known to train I...  "
      ]
     },
     "execution_count": 2,
     "metadata": {},
     "output_type": "execute_result"
    }
   ],
   "source": [
    "df = pd.read_csv(\"netflix_titles.csv\")\n",
    "df.head()"
   ]
  },
  {
   "cell_type": "code",
   "execution_count": 3,
   "id": "4089edb3-fc89-4189-9a10-386c8f4cbba5",
   "metadata": {},
   "outputs": [
    {
     "name": "stdout",
     "output_type": "stream",
     "text": [
      "<class 'pandas.core.frame.DataFrame'>\n",
      "RangeIndex: 8807 entries, 0 to 8806\n",
      "Data columns (total 12 columns):\n",
      " #   Column        Non-Null Count  Dtype \n",
      "---  ------        --------------  ----- \n",
      " 0   show_id       8807 non-null   object\n",
      " 1   type          8807 non-null   object\n",
      " 2   title         8807 non-null   object\n",
      " 3   director      6173 non-null   object\n",
      " 4   cast          7982 non-null   object\n",
      " 5   country       7976 non-null   object\n",
      " 6   date_added    8797 non-null   object\n",
      " 7   release_year  8807 non-null   int64 \n",
      " 8   rating        8803 non-null   object\n",
      " 9   duration      8804 non-null   object\n",
      " 10  listed_in     8807 non-null   object\n",
      " 11  description   8807 non-null   object\n",
      "dtypes: int64(1), object(11)\n",
      "memory usage: 825.8+ KB\n"
     ]
    },
    {
     "data": {
      "text/plain": [
       "Index(['show_id', 'type', 'title', 'director', 'cast', 'country', 'date_added',\n",
       "       'release_year', 'rating', 'duration', 'listed_in', 'description'],\n",
       "      dtype='object')"
      ]
     },
     "execution_count": 3,
     "metadata": {},
     "output_type": "execute_result"
    }
   ],
   "source": [
    "df.info()\n",
    "df.describe(include='all')\n",
    "df.shape\n",
    "df.columns"
   ]
  },
  {
   "cell_type": "code",
   "execution_count": 4,
   "id": "ae2b77dc-85cf-4d5d-a98d-95e8f8b603e8",
   "metadata": {},
   "outputs": [
    {
     "data": {
      "text/html": [
       "<div>\n",
       "<style scoped>\n",
       "    .dataframe tbody tr th:only-of-type {\n",
       "        vertical-align: middle;\n",
       "    }\n",
       "\n",
       "    .dataframe tbody tr th {\n",
       "        vertical-align: top;\n",
       "    }\n",
       "\n",
       "    .dataframe thead th {\n",
       "        text-align: right;\n",
       "    }\n",
       "</style>\n",
       "<table border=\"1\" class=\"dataframe\">\n",
       "  <thead>\n",
       "    <tr style=\"text-align: right;\">\n",
       "      <th></th>\n",
       "      <th>show_id</th>\n",
       "      <th>type</th>\n",
       "      <th>title</th>\n",
       "      <th>director</th>\n",
       "      <th>cast</th>\n",
       "      <th>country</th>\n",
       "      <th>date_added</th>\n",
       "      <th>release_year</th>\n",
       "      <th>rating</th>\n",
       "      <th>duration</th>\n",
       "      <th>listed_in</th>\n",
       "      <th>description</th>\n",
       "    </tr>\n",
       "  </thead>\n",
       "  <tbody>\n",
       "    <tr>\n",
       "      <th>count</th>\n",
       "      <td>8807</td>\n",
       "      <td>8807</td>\n",
       "      <td>8807</td>\n",
       "      <td>6173</td>\n",
       "      <td>7982</td>\n",
       "      <td>7976</td>\n",
       "      <td>8797</td>\n",
       "      <td>8807.000000</td>\n",
       "      <td>8803</td>\n",
       "      <td>8804</td>\n",
       "      <td>8807</td>\n",
       "      <td>8807</td>\n",
       "    </tr>\n",
       "    <tr>\n",
       "      <th>unique</th>\n",
       "      <td>8807</td>\n",
       "      <td>2</td>\n",
       "      <td>8807</td>\n",
       "      <td>4528</td>\n",
       "      <td>7692</td>\n",
       "      <td>748</td>\n",
       "      <td>1767</td>\n",
       "      <td>NaN</td>\n",
       "      <td>17</td>\n",
       "      <td>220</td>\n",
       "      <td>514</td>\n",
       "      <td>8775</td>\n",
       "    </tr>\n",
       "    <tr>\n",
       "      <th>top</th>\n",
       "      <td>s1</td>\n",
       "      <td>Movie</td>\n",
       "      <td>Dick Johnson Is Dead</td>\n",
       "      <td>Rajiv Chilaka</td>\n",
       "      <td>David Attenborough</td>\n",
       "      <td>United States</td>\n",
       "      <td>January 1, 2020</td>\n",
       "      <td>NaN</td>\n",
       "      <td>TV-MA</td>\n",
       "      <td>1 Season</td>\n",
       "      <td>Dramas, International Movies</td>\n",
       "      <td>Paranormal activity at a lush, abandoned prope...</td>\n",
       "    </tr>\n",
       "    <tr>\n",
       "      <th>freq</th>\n",
       "      <td>1</td>\n",
       "      <td>6131</td>\n",
       "      <td>1</td>\n",
       "      <td>19</td>\n",
       "      <td>19</td>\n",
       "      <td>2818</td>\n",
       "      <td>109</td>\n",
       "      <td>NaN</td>\n",
       "      <td>3207</td>\n",
       "      <td>1793</td>\n",
       "      <td>362</td>\n",
       "      <td>4</td>\n",
       "    </tr>\n",
       "    <tr>\n",
       "      <th>mean</th>\n",
       "      <td>NaN</td>\n",
       "      <td>NaN</td>\n",
       "      <td>NaN</td>\n",
       "      <td>NaN</td>\n",
       "      <td>NaN</td>\n",
       "      <td>NaN</td>\n",
       "      <td>NaN</td>\n",
       "      <td>2014.180198</td>\n",
       "      <td>NaN</td>\n",
       "      <td>NaN</td>\n",
       "      <td>NaN</td>\n",
       "      <td>NaN</td>\n",
       "    </tr>\n",
       "    <tr>\n",
       "      <th>std</th>\n",
       "      <td>NaN</td>\n",
       "      <td>NaN</td>\n",
       "      <td>NaN</td>\n",
       "      <td>NaN</td>\n",
       "      <td>NaN</td>\n",
       "      <td>NaN</td>\n",
       "      <td>NaN</td>\n",
       "      <td>8.819312</td>\n",
       "      <td>NaN</td>\n",
       "      <td>NaN</td>\n",
       "      <td>NaN</td>\n",
       "      <td>NaN</td>\n",
       "    </tr>\n",
       "    <tr>\n",
       "      <th>min</th>\n",
       "      <td>NaN</td>\n",
       "      <td>NaN</td>\n",
       "      <td>NaN</td>\n",
       "      <td>NaN</td>\n",
       "      <td>NaN</td>\n",
       "      <td>NaN</td>\n",
       "      <td>NaN</td>\n",
       "      <td>1925.000000</td>\n",
       "      <td>NaN</td>\n",
       "      <td>NaN</td>\n",
       "      <td>NaN</td>\n",
       "      <td>NaN</td>\n",
       "    </tr>\n",
       "    <tr>\n",
       "      <th>25%</th>\n",
       "      <td>NaN</td>\n",
       "      <td>NaN</td>\n",
       "      <td>NaN</td>\n",
       "      <td>NaN</td>\n",
       "      <td>NaN</td>\n",
       "      <td>NaN</td>\n",
       "      <td>NaN</td>\n",
       "      <td>2013.000000</td>\n",
       "      <td>NaN</td>\n",
       "      <td>NaN</td>\n",
       "      <td>NaN</td>\n",
       "      <td>NaN</td>\n",
       "    </tr>\n",
       "    <tr>\n",
       "      <th>50%</th>\n",
       "      <td>NaN</td>\n",
       "      <td>NaN</td>\n",
       "      <td>NaN</td>\n",
       "      <td>NaN</td>\n",
       "      <td>NaN</td>\n",
       "      <td>NaN</td>\n",
       "      <td>NaN</td>\n",
       "      <td>2017.000000</td>\n",
       "      <td>NaN</td>\n",
       "      <td>NaN</td>\n",
       "      <td>NaN</td>\n",
       "      <td>NaN</td>\n",
       "    </tr>\n",
       "    <tr>\n",
       "      <th>75%</th>\n",
       "      <td>NaN</td>\n",
       "      <td>NaN</td>\n",
       "      <td>NaN</td>\n",
       "      <td>NaN</td>\n",
       "      <td>NaN</td>\n",
       "      <td>NaN</td>\n",
       "      <td>NaN</td>\n",
       "      <td>2019.000000</td>\n",
       "      <td>NaN</td>\n",
       "      <td>NaN</td>\n",
       "      <td>NaN</td>\n",
       "      <td>NaN</td>\n",
       "    </tr>\n",
       "    <tr>\n",
       "      <th>max</th>\n",
       "      <td>NaN</td>\n",
       "      <td>NaN</td>\n",
       "      <td>NaN</td>\n",
       "      <td>NaN</td>\n",
       "      <td>NaN</td>\n",
       "      <td>NaN</td>\n",
       "      <td>NaN</td>\n",
       "      <td>2021.000000</td>\n",
       "      <td>NaN</td>\n",
       "      <td>NaN</td>\n",
       "      <td>NaN</td>\n",
       "      <td>NaN</td>\n",
       "    </tr>\n",
       "  </tbody>\n",
       "</table>\n",
       "</div>"
      ],
      "text/plain": [
       "       show_id   type                 title       director  \\\n",
       "count     8807   8807                  8807           6173   \n",
       "unique    8807      2                  8807           4528   \n",
       "top         s1  Movie  Dick Johnson Is Dead  Rajiv Chilaka   \n",
       "freq         1   6131                     1             19   \n",
       "mean       NaN    NaN                   NaN            NaN   \n",
       "std        NaN    NaN                   NaN            NaN   \n",
       "min        NaN    NaN                   NaN            NaN   \n",
       "25%        NaN    NaN                   NaN            NaN   \n",
       "50%        NaN    NaN                   NaN            NaN   \n",
       "75%        NaN    NaN                   NaN            NaN   \n",
       "max        NaN    NaN                   NaN            NaN   \n",
       "\n",
       "                      cast        country       date_added  release_year  \\\n",
       "count                 7982           7976             8797   8807.000000   \n",
       "unique                7692            748             1767           NaN   \n",
       "top     David Attenborough  United States  January 1, 2020           NaN   \n",
       "freq                    19           2818              109           NaN   \n",
       "mean                   NaN            NaN              NaN   2014.180198   \n",
       "std                    NaN            NaN              NaN      8.819312   \n",
       "min                    NaN            NaN              NaN   1925.000000   \n",
       "25%                    NaN            NaN              NaN   2013.000000   \n",
       "50%                    NaN            NaN              NaN   2017.000000   \n",
       "75%                    NaN            NaN              NaN   2019.000000   \n",
       "max                    NaN            NaN              NaN   2021.000000   \n",
       "\n",
       "       rating  duration                     listed_in  \\\n",
       "count    8803      8804                          8807   \n",
       "unique     17       220                           514   \n",
       "top     TV-MA  1 Season  Dramas, International Movies   \n",
       "freq     3207      1793                           362   \n",
       "mean      NaN       NaN                           NaN   \n",
       "std       NaN       NaN                           NaN   \n",
       "min       NaN       NaN                           NaN   \n",
       "25%       NaN       NaN                           NaN   \n",
       "50%       NaN       NaN                           NaN   \n",
       "75%       NaN       NaN                           NaN   \n",
       "max       NaN       NaN                           NaN   \n",
       "\n",
       "                                              description  \n",
       "count                                                8807  \n",
       "unique                                               8775  \n",
       "top     Paranormal activity at a lush, abandoned prope...  \n",
       "freq                                                    4  \n",
       "mean                                                  NaN  \n",
       "std                                                   NaN  \n",
       "min                                                   NaN  \n",
       "25%                                                   NaN  \n",
       "50%                                                   NaN  \n",
       "75%                                                   NaN  \n",
       "max                                                   NaN  "
      ]
     },
     "execution_count": 4,
     "metadata": {},
     "output_type": "execute_result"
    }
   ],
   "source": [
    "df.describe(include='all')"
   ]
  },
  {
   "cell_type": "code",
   "execution_count": 5,
   "id": "b7e3ad89-6da6-447e-9b6b-9bddf5dc2353",
   "metadata": {},
   "outputs": [
    {
     "data": {
      "text/plain": [
       "show_id            0\n",
       "type               0\n",
       "title              0\n",
       "director        2634\n",
       "cast             825\n",
       "country          831\n",
       "date_added        10\n",
       "release_year       0\n",
       "rating             4\n",
       "duration           3\n",
       "listed_in          0\n",
       "description        0\n",
       "dtype: int64"
      ]
     },
     "execution_count": 5,
     "metadata": {},
     "output_type": "execute_result"
    }
   ],
   "source": [
    "df.isnull().sum()\n"
   ]
  },
  {
   "cell_type": "code",
   "execution_count": 8,
   "id": "09ba792b-cc6d-4dfc-b3fb-38096bd64b4d",
   "metadata": {
    "scrolled": true
   },
   "outputs": [
    {
     "data": {
      "text/plain": [
       "1                       South Africa\n",
       "2                            Unknown\n",
       "4                              India\n",
       "5                            Unknown\n",
       "6                            Unknown\n",
       "                    ...             \n",
       "8801    United Arab Emirates, Jordan\n",
       "8802                   United States\n",
       "8804                   United States\n",
       "8805                   United States\n",
       "8806                           India\n",
       "Name: country, Length: 7965, dtype: object"
      ]
     },
     "execution_count": 8,
     "metadata": {},
     "output_type": "execute_result"
    }
   ],
   "source": [
    "df['country'].fillna('Unknown')"
   ]
  },
  {
   "cell_type": "code",
   "execution_count": 7,
   "id": "fb535cf6-1753-4de7-976a-f437421e2563",
   "metadata": {},
   "outputs": [
    {
     "data": {
      "text/plain": [
       "<bound method DataFrame.dropna of      show_id     type                             title  \\\n",
       "1         s2  TV Show                     Blood & Water   \n",
       "2         s3  TV Show                         Ganglands   \n",
       "4         s5  TV Show                      Kota Factory   \n",
       "5         s6  TV Show                     Midnight Mass   \n",
       "6         s7    Movie  My Little Pony: A New Generation   \n",
       "...      ...      ...                               ...   \n",
       "8801   s8802    Movie                           Zinzana   \n",
       "8802   s8803    Movie                            Zodiac   \n",
       "8804   s8805    Movie                        Zombieland   \n",
       "8805   s8806    Movie                              Zoom   \n",
       "8806   s8807    Movie                            Zubaan   \n",
       "\n",
       "                           director  \\\n",
       "1                     Not Specified   \n",
       "2                   Julien Leclercq   \n",
       "4                     Not Specified   \n",
       "5                     Mike Flanagan   \n",
       "6     Robert Cullen, José Luis Ucha   \n",
       "...                             ...   \n",
       "8801                Majid Al Ansari   \n",
       "8802                  David Fincher   \n",
       "8804                Ruben Fleischer   \n",
       "8805                   Peter Hewitt   \n",
       "8806                    Mozez Singh   \n",
       "\n",
       "                                                   cast  \\\n",
       "1     Ama Qamata, Khosi Ngema, Gail Mabalane, Thaban...   \n",
       "2     Sami Bouajila, Tracy Gotoas, Samuel Jouy, Nabi...   \n",
       "4     Mayur More, Jitendra Kumar, Ranjan Raj, Alam K...   \n",
       "5     Kate Siegel, Zach Gilford, Hamish Linklater, H...   \n",
       "6     Vanessa Hudgens, Kimiko Glenn, James Marsden, ...   \n",
       "...                                                 ...   \n",
       "8801  Ali Suliman, Saleh Bakri, Yasa, Ali Al-Jabri, ...   \n",
       "8802  Mark Ruffalo, Jake Gyllenhaal, Robert Downey J...   \n",
       "8804  Jesse Eisenberg, Woody Harrelson, Emma Stone, ...   \n",
       "8805  Tim Allen, Courteney Cox, Chevy Chase, Kate Ma...   \n",
       "8806  Vicky Kaushal, Sarah-Jane Dias, Raaghav Chanan...   \n",
       "\n",
       "                           country          date_added  release_year rating  \\\n",
       "1                     South Africa  September 24, 2021          2021  TV-MA   \n",
       "2                          Unknown  September 24, 2021          2021  TV-MA   \n",
       "4                            India  September 24, 2021          2021  TV-MA   \n",
       "5                          Unknown  September 24, 2021          2021  TV-MA   \n",
       "6                          Unknown  September 24, 2021          2021     PG   \n",
       "...                            ...                 ...           ...    ...   \n",
       "8801  United Arab Emirates, Jordan       March 9, 2016          2015  TV-MA   \n",
       "8802                 United States   November 20, 2019          2007      R   \n",
       "8804                 United States    November 1, 2019          2009      R   \n",
       "8805                 United States    January 11, 2020          2006     PG   \n",
       "8806                         India       March 2, 2019          2015  TV-14   \n",
       "\n",
       "       duration                                          listed_in  \\\n",
       "1     2 Seasons    International TV Shows, TV Dramas, TV Mysteries   \n",
       "2      1 Season  Crime TV Shows, International TV Shows, TV Act...   \n",
       "4     2 Seasons  International TV Shows, Romantic TV Shows, TV ...   \n",
       "5      1 Season                 TV Dramas, TV Horror, TV Mysteries   \n",
       "6        91 min                           Children & Family Movies   \n",
       "...         ...                                                ...   \n",
       "8801     96 min            Dramas, International Movies, Thrillers   \n",
       "8802    158 min                     Cult Movies, Dramas, Thrillers   \n",
       "8804     88 min                            Comedies, Horror Movies   \n",
       "8805     88 min                 Children & Family Movies, Comedies   \n",
       "8806    111 min     Dramas, International Movies, Music & Musicals   \n",
       "\n",
       "                                            description  \n",
       "1     After crossing paths at a party, a Cape Town t...  \n",
       "2     To protect his family from a powerful drug lor...  \n",
       "4     In a city of coaching centers known to train I...  \n",
       "5     The arrival of a charismatic young priest brin...  \n",
       "6     Equestria's divided. But a bright-eyed hero be...  \n",
       "...                                                 ...  \n",
       "8801  Recovering alcoholic Talal wakes up inside a s...  \n",
       "8802  A political cartoonist, a crime reporter and a...  \n",
       "8804  Looking to survive in a world taken over by zo...  \n",
       "8805  Dragged from civilian life, a former superhero...  \n",
       "8806  A scrappy but poor boy worms his way into a ty...  \n",
       "\n",
       "[7965 rows x 12 columns]>"
      ]
     },
     "execution_count": 7,
     "metadata": {},
     "output_type": "execute_result"
    }
   ],
   "source": [
    "df['country'].fillna('Unknown')\n",
    "df['director'].fillna('Not Specified')\n",
    "df.dropna"
   ]
  },
  {
   "cell_type": "code",
   "execution_count": 9,
   "id": "aae30f69-d11c-4333-b178-fab5ff3c09ff",
   "metadata": {},
   "outputs": [
    {
     "data": {
      "text/plain": [
       "Text(0.5, 1.0, 'Count of Movies vs TV Shows')"
      ]
     },
     "execution_count": 9,
     "metadata": {},
     "output_type": "execute_result"
    },
    {
     "data": {
      "image/png": "[encoded data removed]",
      "text/plain": [
       "<Figure size 640x480 with 1 Axes>"
      ]
     },
     "metadata": {},
     "output_type": "display_data"
    }
   ],
   "source": [
    "df['type'].value_counts().plot(kind='bar', color='skyblue')\n",
    "plt.title(\"Count of Movies vs TV Shows\")"
   ]
  },
  {
   "cell_type": "code",
   "execution_count": 10,
   "id": "08c4eb16-866a-49d0-9279-8c429ff892a4",
   "metadata": {},
   "outputs": [
    {
     "data": {
      "text/plain": [
       "Text(0.5, 1.0, 'Top 10 Countries by Netflix Titles')"
      ]
     },
     "execution_count": 10,
     "metadata": {},
     "output_type": "execute_result"
    },
    {
     "data": {
      "image/png": "[encoded data removed]",
      "text/plain": [
       "<Figure size 640x480 with 1 Axes>"
      ]
     },
     "metadata": {},
     "output_type": "display_data"
    }
   ],
   "source": [
    "df['country'].value_counts().head(10).plot(kind='barh', color='lightgreen')\n",
    "plt.title(\"Top 10 Countries by Netflix Titles\")\n"
   ]
  },
  {
   "cell_type": "code",
   "execution_count": 11,
   "id": "385c735f-8f2c-441d-8871-61213eddafb1",
   "metadata": {},
   "outputs": [
    {
     "data": {
      "text/plain": [
       "Text(0.5, 1.0, 'Content Type by Year')"
      ]
     },
     "execution_count": 11,
     "metadata": {},
     "output_type": "execute_result"
    },
    {
     "data": {
      "image/png": "[encoded data removed]",
      "text/plain": [
       "<Figure size 640x480 with 1 Axes>"
      ]
     },
     "metadata": {},
     "output_type": "display_data"
    }
   ],
   "source": [
    "df['release_year'] = pd.to_numeric(df['release_year'], errors='coerce')\n",
    "sns.countplot(data=df, y='release_year', hue='type')\n",
    "plt.title(\"Content Type by Year\")\n"
   ]
  },
  {
   "cell_type": "code",
   "execution_count": 13,
   "id": "eb8bf1f0-dde6-4612-a7f8-c212364a15ec",
   "metadata": {},
   "outputs": [
    {
     "data": {
      "text/plain": [
       "count    5651.000000\n",
       "mean      101.365245\n",
       "std        27.796225\n",
       "min         8.000000\n",
       "25%        88.000000\n",
       "50%       100.000000\n",
       "75%       116.000000\n",
       "max       312.000000\n",
       "Name: duration_mins, dtype: float64"
      ]
     },
     "execution_count": 13,
     "metadata": {},
     "output_type": "execute_result"
    }
   ],
   "source": [
    "movies_df['duration_mins'].describe()"
   ]
  },
  {
   "cell_type": "code",
   "execution_count": 14,
   "id": "9d830972-8614-4099-84ae-7424a9bbcd3c",
   "metadata": {},
   "outputs": [
    {
     "data": {
      "text/plain": [
       "<Axes: >"
      ]
     },
     "execution_count": 14,
     "metadata": {},
     "output_type": "execute_result"
    },
    {
     "data": {
      "image/png": "[encoded data removed]",
      "text/plain": [
       "<Figure size 640x480 with 2 Axes>"
      ]
     },
     "metadata": {},
     "output_type": "display_data"
    }
   ],
   "source": [
    "sns.heatmap(df.corr(numeric_only=True), annot=True)"
   ]
  },
  {
   "cell_type": "code",
   "execution_count": 18,
   "id": "ee5343ae-6322-4687-bbd8-3c301d6587b9",
   "metadata": {},
   "outputs": [
    {
     "data": {
      "text/plain": [
       "type\n",
       "Movie      2012.910104\n",
       "TV Show    2016.528522\n",
       "Name: release_year, dtype: float64"
      ]
     },
     "execution_count": 18,
     "metadata": {},
     "output_type": "execute_result"
    }
   ],
   "source": [
    "df.groupby('type')['release_year'].mean()\n"
   ]
  },
  {
   "cell_type": "code",
   "execution_count": 21,
   "id": "ad3005d3-c562-46d4-9f53-5872f99a055b",
   "metadata": {},
   "outputs": [
    {
     "data": {
      "text/plain": [
       "(7965, 12)"
      ]
     },
     "execution_count": 21,
     "metadata": {},
     "output_type": "execute_result"
    }
   ],
   "source": [
    "df.shape\n"
   ]
  },
  {
   "cell_type": "code",
   "execution_count": 22,
   "id": "03813215-1d92-4137-9213-a6ccb52fe1b2",
   "metadata": {},
   "outputs": [
    {
     "data": {
      "text/plain": [
       "<bound method NDFrame.head of      show_id     type                             title  \\\n",
       "1         s2  TV Show                     Blood & Water   \n",
       "2         s3  TV Show                         Ganglands   \n",
       "4         s5  TV Show                      Kota Factory   \n",
       "5         s6  TV Show                     Midnight Mass   \n",
       "6         s7    Movie  My Little Pony: A New Generation   \n",
       "...      ...      ...                               ...   \n",
       "8801   s8802    Movie                           Zinzana   \n",
       "8802   s8803    Movie                            Zodiac   \n",
       "8804   s8805    Movie                        Zombieland   \n",
       "8805   s8806    Movie                              Zoom   \n",
       "8806   s8807    Movie                            Zubaan   \n",
       "\n",
       "                           director  \\\n",
       "1                     Not Specified   \n",
       "2                   Julien Leclercq   \n",
       "4                     Not Specified   \n",
       "5                     Mike Flanagan   \n",
       "6     Robert Cullen, José Luis Ucha   \n",
       "...                             ...   \n",
       "8801                Majid Al Ansari   \n",
       "8802                  David Fincher   \n",
       "8804                Ruben Fleischer   \n",
       "8805                   Peter Hewitt   \n",
       "8806                    Mozez Singh   \n",
       "\n",
       "                                                   cast  \\\n",
       "1     Ama Qamata, Khosi Ngema, Gail Mabalane, Thaban...   \n",
       "2     Sami Bouajila, Tracy Gotoas, Samuel Jouy, Nabi...   \n",
       "4     Mayur More, Jitendra Kumar, Ranjan Raj, Alam K...   \n",
       "5     Kate Siegel, Zach Gilford, Hamish Linklater, H...   \n",
       "6     Vanessa Hudgens, Kimiko Glenn, James Marsden, ...   \n",
       "...                                                 ...   \n",
       "8801  Ali Suliman, Saleh Bakri, Yasa, Ali Al-Jabri, ...   \n",
       "8802  Mark Ruffalo, Jake Gyllenhaal, Robert Downey J...   \n",
       "8804  Jesse Eisenberg, Woody Harrelson, Emma Stone, ...   \n",
       "8805  Tim Allen, Courteney Cox, Chevy Chase, Kate Ma...   \n",
       "8806  Vicky Kaushal, Sarah-Jane Dias, Raaghav Chanan...   \n",
       "\n",
       "                           country          date_added  release_year rating  \\\n",
       "1                     South Africa  September 24, 2021          2021  TV-MA   \n",
       "2                          Unknown  September 24, 2021          2021  TV-MA   \n",
       "4                            India  September 24, 2021          2021  TV-MA   \n",
       "5                          Unknown  September 24, 2021          2021  TV-MA   \n",
       "6                          Unknown  September 24, 2021          2021     PG   \n",
       "...                            ...                 ...           ...    ...   \n",
       "8801  United Arab Emirates, Jordan       March 9, 2016          2015  TV-MA   \n",
       "8802                 United States   November 20, 2019          2007      R   \n",
       "8804                 United States    November 1, 2019          2009      R   \n",
       "8805                 United States    January 11, 2020          2006     PG   \n",
       "8806                         India       March 2, 2019          2015  TV-14   \n",
       "\n",
       "       duration                                          listed_in  \\\n",
       "1     2 Seasons    International TV Shows, TV Dramas, TV Mysteries   \n",
       "2      1 Season  Crime TV Shows, International TV Shows, TV Act...   \n",
       "4     2 Seasons  International TV Shows, Romantic TV Shows, TV ...   \n",
       "5      1 Season                 TV Dramas, TV Horror, TV Mysteries   \n",
       "6        91 min                           Children & Family Movies   \n",
       "...         ...                                                ...   \n",
       "8801     96 min            Dramas, International Movies, Thrillers   \n",
       "8802    158 min                     Cult Movies, Dramas, Thrillers   \n",
       "8804     88 min                            Comedies, Horror Movies   \n",
       "8805     88 min                 Children & Family Movies, Comedies   \n",
       "8806    111 min     Dramas, International Movies, Music & Musicals   \n",
       "\n",
       "                                            description  \n",
       "1     After crossing paths at a party, a Cape Town t...  \n",
       "2     To protect his family from a powerful drug lor...  \n",
       "4     In a city of coaching centers known to train I...  \n",
       "5     The arrival of a charismatic young priest brin...  \n",
       "6     Equestria's divided. But a bright-eyed hero be...  \n",
       "...                                                 ...  \n",
       "8801  Recovering alcoholic Talal wakes up inside a s...  \n",
       "8802  A political cartoonist, a crime reporter and a...  \n",
       "8804  Looking to survive in a world taken over by zo...  \n",
       "8805  Dragged from civilian life, a former superhero...  \n",
       "8806  A scrappy but poor boy worms his way into a ty...  \n",
       "\n",
       "[7965 rows x 12 columns]>"
      ]
     },
     "execution_count": 22,
     "metadata": {},
     "output_type": "execute_result"
    }
   ],
   "source": [
    "df.head"
   ]
  },
  {
   "cell_type": "code",
   "execution_count": 23,
   "id": "f569722d-aada-446f-b5d9-8f25c1cb4aee",
   "metadata": {},
   "outputs": [
    {
     "data": {
      "text/plain": [
       "country\n",
       ", France, Algeria                                      2014.000000\n",
       ", South Korea                                          2021.000000\n",
       "Argentina                                              2015.627451\n",
       "Argentina, Brazil, France, Poland, Germany, Denmark    2017.000000\n",
       "Argentina, Chile                                       2011.500000\n",
       "                                                          ...     \n",
       "Uruguay, Guatemala                                     2019.000000\n",
       "Uruguay, Spain, Mexico                                 2018.000000\n",
       "Venezuela                                              2017.000000\n",
       "Vietnam                                                2017.714286\n",
       "Zimbabwe                                               2017.000000\n",
       "Name: release_year, Length: 690, dtype: float64"
      ]
     },
     "execution_count": 23,
     "metadata": {},
     "output_type": "execute_result"
    }
   ],
   "source": [
    "df.groupby('country')['release_year'].mean()\n"
   ]
  },
  {
   "cell_type": "code",
   "execution_count": null,
   "id": "cf73d693-5a2c-4105-a2ea-cd8209bd6542",
   "metadata": {},
   "outputs": [],
   "source": [
    "# Summary\n",
    "\n",
    "1. Majority of content on Netflix is Movies.\n",
    "2. Most content is from USA, followed by India and UK.\n",
    "3. Average movie length is around 100 minutes.\n",
    "4. TV Shows tend to be released more recently than movies."
   ]
  }
 ],
 "metadata": {
  "kernelspec": {
   "display_name": "Python 3 (ipykernel)",
   "language": "python",
   "name": "python3"
  },
  "language_info": {
   "codemirror_mode": {
    "name": "ipython",
    "version": 3
   },
   "file_extension": ".py",
   "mimetype": "text/x-python",
   "name": "python",
   "nbconvert_exporter": "python",
   "pygments_lexer": "ipython3",
   "version": "3.12.7"
  }
 },
 "nbformat": 4,
 "nbformat_minor": 5
}
